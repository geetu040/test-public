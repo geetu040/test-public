{
 "cells": [
  {
   "cell_type": "code",
   "execution_count": null,
   "metadata": {},
   "outputs": [],
   "source": [
    "!pip install sktime"
   ]
  },
  {
   "cell_type": "code",
   "execution_count": null,
   "metadata": {},
   "outputs": [],
   "source": [
    "from sktime.datasets import (\n",
    "\tload_airline,\n",
    "\tload_unit_test,\n",
    "    load_tecator,\n",
    ")\n",
    "from sktime.utils.plotting import plot_series\n",
    "from sktime.utils._testing.hierarchical import _make_hierarchical\n",
    "from sklearn.model_selection import train_test_split\n",
    "\n",
    "import os\n",
    "os.environ[\"JAX_PLATFORM_NAME\"] = \"cpu\"\n",
    "os.environ[\"JAX_PLATFORMS\"] = \"cpu\"\n",
    "\n",
    "import warnings\n",
    "warnings.filterwarnings(\"ignore\")"
   ]
  },
  {
   "cell_type": "markdown",
   "metadata": {},
   "source": [
    "# Overview"
   ]
  },
  {
   "cell_type": "markdown",
   "metadata": {},
   "source": [
    "List of all estimators, I have authored or co-authored"
   ]
  },
  {
   "cell_type": "code",
   "execution_count": null,
   "metadata": {},
   "outputs": [],
   "source": [
    "from sktime.registry import all_estimators\n",
    "\n",
    "all_estimators(\n",
    "    filter_tags={\"authors\": \"geetu040\"},\n",
    "    return_tags=['capability:global_forecasting', 'ignores-exogeneous-X'],\n",
    "\treturn_names=True, as_dataframe=True, suppress_import_stdout=True\n",
    ")"
   ]
  },
  {
   "cell_type": "markdown",
   "metadata": {},
   "source": [
    "# AutoRegressiveWrapper"
   ]
  },
  {
   "cell_type": "code",
   "execution_count": null,
   "metadata": {},
   "outputs": [],
   "source": [
    "y = load_airline()"
   ]
  },
  {
   "cell_type": "code",
   "execution_count": null,
   "metadata": {},
   "outputs": [],
   "source": [
    "from sktime.forecasting.pytorchforecasting import PytorchForecastingNBeats\n",
    "\n",
    "forecaster = PytorchForecastingNBeats(trainer_params={\n",
    "    \"max_epochs\": 20,\n",
    "})"
   ]
  },
  {
   "cell_type": "code",
   "execution_count": null,
   "metadata": {},
   "outputs": [],
   "source": [
    "forecaster.get_tag(\"requires-fh-in-fit\")"
   ]
  },
  {
   "cell_type": "code",
   "execution_count": null,
   "metadata": {},
   "outputs": [],
   "source": [
    "forecaster.fit(y, fh=list(range(1, 40)))\n",
    "preds = forecaster.predict()"
   ]
  },
  {
   "cell_type": "code",
   "execution_count": null,
   "metadata": {},
   "outputs": [],
   "source": [
    "plot_series(y, preds)"
   ]
  },
  {
   "cell_type": "code",
   "execution_count": null,
   "metadata": {},
   "outputs": [],
   "source": [
    "# forecaster.predict(fh=[1, 2, 3])\n",
    "# forecaster.predict(fh=[2, 5])\n",
    "# forecaster.predict(fh=list(range(1, 50)))"
   ]
  },
  {
   "cell_type": "code",
   "execution_count": null,
   "metadata": {},
   "outputs": [],
   "source": [
    "from sktime.forecasting.compose import AutoRegressiveWrapper\n",
    "\n",
    "forecaster = PytorchForecastingNBeats(trainer_params={\n",
    "    \"max_epochs\": 20,\n",
    "})\n",
    "wrapper = AutoRegressiveWrapper(forecaster, horizon_length=5)"
   ]
  },
  {
   "cell_type": "code",
   "execution_count": null,
   "metadata": {},
   "outputs": [],
   "source": [
    "wrapper.get_tag(\"requires-fh-in-fit\")"
   ]
  },
  {
   "cell_type": "code",
   "execution_count": null,
   "metadata": {},
   "outputs": [],
   "source": [
    "wrapper.fit(y)\n",
    "preds = wrapper.predict(fh=list(range(1, 40)))"
   ]
  },
  {
   "cell_type": "code",
   "execution_count": null,
   "metadata": {},
   "outputs": [],
   "source": [
    "plot_series(y, preds)"
   ]
  },
  {
   "cell_type": "code",
   "execution_count": null,
   "metadata": {},
   "outputs": [],
   "source": [
    "forecaster.get_class_tag(\"capability:global_forecasting\")"
   ]
  },
  {
   "cell_type": "code",
   "execution_count": null,
   "metadata": {},
   "outputs": [],
   "source": [
    "wrapper.get_class_tag(\"capability:global_forecasting\")"
   ]
  },
  {
   "cell_type": "code",
   "execution_count": null,
   "metadata": {},
   "outputs": [],
   "source": [
    "wrapper.get_class_tag(\"ignores-exogeneous-X\")"
   ]
  },
  {
   "cell_type": "markdown",
   "metadata": {},
   "source": [
    "# LTSFTransformerForecaster"
   ]
  },
  {
   "cell_type": "code",
   "execution_count": null,
   "metadata": {},
   "outputs": [],
   "source": [
    "from sktime.forecasting.ltsf import LTSFTransformerForecaster\n",
    "\n",
    "y = load_airline()\n",
    "\n",
    "y = (y - y.mean()) / y.std()\n",
    "\n",
    "model = LTSFTransformerForecaster(\n",
    "\tseq_len=30,\n",
    "\tcontext_len=15,\n",
    "\tpred_len=15,\n",
    "    num_epochs=50,\n",
    "    batch_size=8,\n",
    "    in_channels=1,\n",
    "    individual=False,\n",
    "    criterion=None,\n",
    "    criterion_kwargs=None,\n",
    "    optimizer=None,\n",
    "    optimizer_kwargs=None,\n",
    "    lr=0.002,\n",
    "    position_encoding=True,\n",
    "    temporal_encoding=True,\n",
    "    temporal_encoding_type=\"embed\",  # linear, embed, fixed-embed\n",
    "    d_model=32,\n",
    "    n_heads=1,\n",
    "    d_ff=64,\n",
    "    e_layers=1,\n",
    "    d_layers=1,\n",
    "    factor=1,\n",
    "    dropout=0.1,\n",
    "    activation=\"relu\",\n",
    "    freq=\"M\",\n",
    ")\n",
    "\n",
    "model.fit(y, fh=list(range(1, model.pred_len+1)))\n",
    "\n",
    "preds = model.predict()\n",
    "plot_series(y, preds)"
   ]
  },
  {
   "cell_type": "code",
   "execution_count": null,
   "metadata": {},
   "outputs": [],
   "source": [
    "model.get_class_tag(\"ignores-exogeneous-X\")"
   ]
  },
  {
   "cell_type": "markdown",
   "metadata": {},
   "source": [
    "# MVTSTransformerClassifier"
   ]
  },
  {
   "cell_type": "code",
   "execution_count": null,
   "metadata": {},
   "outputs": [],
   "source": [
    "from sktime.classification.deep_learning import MVTSTransformerClassifier\n",
    "\n",
    "model = MVTSTransformerClassifier(\n",
    "    d_model=256,\n",
    "    n_heads=4,\n",
    "    num_layers=4,\n",
    "    dim_feedforward=128,\n",
    "    dropout=0.1,\n",
    "    pos_encoding=\"fixed\",\n",
    "    activation=\"relu\",\n",
    "    norm=\"BatchNorm\",\n",
    "    freeze=False,\n",
    "    num_epochs=10,\n",
    "\tverbose=False,\n",
    ")"
   ]
  },
  {
   "cell_type": "code",
   "execution_count": null,
   "metadata": {},
   "outputs": [],
   "source": [
    "X_train, y_train = load_unit_test(split=\"train\")\n",
    "X_test, y_test = load_unit_test(split=\"test\")\n",
    "\n",
    "model.fit(X_train, y_train)\n",
    "preds = model.predict(X_test)\n",
    "\n",
    "preds, y_test"
   ]
  },
  {
   "cell_type": "code",
   "execution_count": null,
   "metadata": {},
   "outputs": [],
   "source": [
    "from sklearn.metrics import accuracy_score\n",
    "\n",
    "accuracy_score(y_test, preds)"
   ]
  },
  {
   "cell_type": "markdown",
   "metadata": {},
   "source": [
    "# TimesFMForecaster"
   ]
  },
  {
   "cell_type": "code",
   "execution_count": null,
   "metadata": {},
   "outputs": [],
   "source": [
    "y = load_airline()"
   ]
  },
  {
   "cell_type": "code",
   "execution_count": null,
   "metadata": {},
   "outputs": [],
   "source": [
    "from sktime.forecasting.timesfm_forecaster import TimesFMForecaster\n",
    "\n",
    "forecaster = TimesFMForecaster(\n",
    "    context_len=64,\n",
    "    horizon_len=32,\n",
    ")"
   ]
  },
  {
   "cell_type": "code",
   "execution_count": null,
   "metadata": {},
   "outputs": [],
   "source": [
    "forecaster.fit(y, fh=list(range(1, forecaster.horizon_len)))\n",
    "y_pred = forecaster.predict()"
   ]
  },
  {
   "cell_type": "code",
   "execution_count": null,
   "metadata": {},
   "outputs": [],
   "source": [
    "plot_series(y, y_pred)"
   ]
  },
  {
   "cell_type": "code",
   "execution_count": null,
   "metadata": {},
   "outputs": [],
   "source": [
    "forecaster.get_class_tag(\"capability:global_forecasting\")"
   ]
  },
  {
   "cell_type": "code",
   "execution_count": null,
   "metadata": {},
   "outputs": [],
   "source": [
    "y_train"
   ]
  },
  {
   "cell_type": "code",
   "execution_count": null,
   "metadata": {},
   "outputs": [],
   "source": [
    "# Preparing the data\n",
    "y = _make_hierarchical(\n",
    "    hierarchy_levels=(2, 5), max_timepoints=100, min_timepoints=100, n_columns=1\n",
    ")\n",
    "y_train, y_test = train_test_split(\n",
    "    y, test_size=0.1, shuffle=False\n",
    ")\n",
    "y_test = y_test.groupby(level=0).apply(\n",
    "    lambda x: x.droplevel(0).iloc[:-4]\n",
    ")\n",
    "\n",
    "# Loading the model\n",
    "forecaster = TimesFMForecaster(\n",
    "    context_len=64,\n",
    "    horizon_len=32,\n",
    ")\n",
    "\n",
    "# fit and forecast\n",
    "forecaster.fit(y_train, fh=[1, 2, 3, 4])\n",
    "preds = forecaster.predict(y=y_test)"
   ]
  },
  {
   "cell_type": "code",
   "execution_count": null,
   "metadata": {},
   "outputs": [],
   "source": [
    "preds"
   ]
  },
  {
   "cell_type": "markdown",
   "metadata": {},
   "source": [
    "# TinyTimeMixerForecaster"
   ]
  },
  {
   "cell_type": "code",
   "execution_count": null,
   "metadata": {},
   "outputs": [],
   "source": [
    "from sktime.forecasting.ttm import TinyTimeMixerForecaster\n",
    "\n",
    "y = load_airline()\n",
    "\n",
    "model = TinyTimeMixerForecaster(\n",
    "    config={\n",
    "        \"context_length\": 20,\n",
    "        \"prediction_length\": 10,\n",
    "    },\n",
    "    training_args={\n",
    "        \"num_train_epochs\": 100,\n",
    "        \"output_dir\": \"test_output\",\n",
    "        \"per_device_train_batch_size\": 32,\n",
    "        \"report_to\": \"none\",\n",
    "        \"learning_rate\": 1e-2,\n",
    "    },\n",
    ")"
   ]
  },
  {
   "cell_type": "code",
   "execution_count": null,
   "metadata": {},
   "outputs": [],
   "source": [
    "model.fit(y, fh=list(range(1, 11)))\n",
    "preds = model.predict()"
   ]
  },
  {
   "cell_type": "code",
   "execution_count": null,
   "metadata": {},
   "outputs": [],
   "source": [
    "plot_series(y, preds)"
   ]
  },
  {
   "cell_type": "code",
   "execution_count": null,
   "metadata": {},
   "outputs": [],
   "source": [
    "forecaster.get_class_tag(\"capability:global_forecasting\")"
   ]
  },
  {
   "cell_type": "code",
   "execution_count": null,
   "metadata": {},
   "outputs": [],
   "source": [
    "# Preparing the data\n",
    "y = _make_hierarchical(\n",
    "    hierarchy_levels=(2, 5), max_timepoints=100, min_timepoints=100, n_columns=2\n",
    ")\n",
    "y_train, y_test = train_test_split(\n",
    "    y, test_size=0.1, shuffle=False\n",
    ")\n",
    "y_test = y_test.groupby(level=0).apply(\n",
    "    lambda x: x.droplevel(0).iloc[:-4]\n",
    ")\n",
    "\n",
    "# Loading the model\n",
    "model = TinyTimeMixerForecaster(\n",
    "    config={\n",
    "        \"context_length\": 20,\n",
    "        \"prediction_length\": 10,\n",
    "    },\n",
    "    training_args={\n",
    "        \"num_train_epochs\": 1,\n",
    "        \"output_dir\": \"test_output\",\n",
    "        \"per_device_train_batch_size\": 32,\n",
    "        \"report_to\": \"none\",\n",
    "        \"learning_rate\": 1e-2,\n",
    "    },\n",
    "\tbroadcasting=False,\n",
    ")\n",
    "\n",
    "# fit and forecast\n",
    "model.fit(y_train, fh=[1, 2, 3, 4])\n",
    "preds = model.predict(y=y_test)"
   ]
  },
  {
   "cell_type": "code",
   "execution_count": null,
   "metadata": {},
   "outputs": [],
   "source": [
    "preds"
   ]
  },
  {
   "cell_type": "code",
   "execution_count": null,
   "metadata": {},
   "outputs": [],
   "source": []
  }
 ],
 "metadata": {
  "kernelspec": {
   "display_name": "dev",
   "language": "python",
   "name": "python3"
  },
  "language_info": {
   "codemirror_mode": {
    "name": "ipython",
    "version": 3
   },
   "file_extension": ".py",
   "mimetype": "text/x-python",
   "name": "python",
   "nbconvert_exporter": "python",
   "pygments_lexer": "ipython3",
   "version": "3.10.14"
  }
 },
 "nbformat": 4,
 "nbformat_minor": 2
}
